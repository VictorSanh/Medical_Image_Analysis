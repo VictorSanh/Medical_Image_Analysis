{
 "cells": [
  {
   "cell_type": "code",
   "execution_count": 7,
   "metadata": {},
   "outputs": [],
   "source": [
    "import numpy as np\n",
    "import pandas as pd\n",
    "from matplotlib import pyplot as plt\n",
    "%matplotlib inline"
   ]
  },
  {
   "cell_type": "code",
   "execution_count": 8,
   "metadata": {},
   "outputs": [],
   "source": [
    "from analyse_scribbles import load_dice_score, plot_influence, image_to_num"
   ]
  },
  {
   "cell_type": "code",
   "execution_count": 10,
   "metadata": {},
   "outputs": [
    {
     "data": {
      "text/html": [
       "<div>\n",
       "<style>\n",
       "    .dataframe thead tr:only-child th {\n",
       "        text-align: right;\n",
       "    }\n",
       "\n",
       "    .dataframe thead th {\n",
       "        text-align: left;\n",
       "    }\n",
       "\n",
       "    .dataframe tbody tr th {\n",
       "        vertical-align: top;\n",
       "    }\n",
       "</style>\n",
       "<table border=\"1\" class=\"dataframe\">\n",
       "  <thead>\n",
       "    <tr style=\"text-align: right;\">\n",
       "      <th></th>\n",
       "      <th>Unnamed: 0</th>\n",
       "      <th>ScribbleId</th>\n",
       "      <th>Classe0</th>\n",
       "      <th>Classe1</th>\n",
       "      <th>image</th>\n",
       "      <th>d</th>\n",
       "      <th>n</th>\n",
       "      <th>AveraDiceScore</th>\n",
       "    </tr>\n",
       "  </thead>\n",
       "  <tbody>\n",
       "    <tr>\n",
       "      <th>0</th>\n",
       "      <td>0</td>\n",
       "      <td>girafe_d_10_n_1000_k_0</td>\n",
       "      <td>0.961334</td>\n",
       "      <td>0.968376</td>\n",
       "      <td>girafe</td>\n",
       "      <td>10</td>\n",
       "      <td>1000</td>\n",
       "      <td>0.964855</td>\n",
       "    </tr>\n",
       "    <tr>\n",
       "      <th>1</th>\n",
       "      <td>1</td>\n",
       "      <td>girafe_d_10_n_1000_k_1</td>\n",
       "      <td>0.963158</td>\n",
       "      <td>0.969917</td>\n",
       "      <td>girafe</td>\n",
       "      <td>10</td>\n",
       "      <td>1000</td>\n",
       "      <td>0.966537</td>\n",
       "    </tr>\n",
       "    <tr>\n",
       "      <th>2</th>\n",
       "      <td>2</td>\n",
       "      <td>girafe_d_10_n_1000_k_2</td>\n",
       "      <td>0.962579</td>\n",
       "      <td>0.969459</td>\n",
       "      <td>girafe</td>\n",
       "      <td>10</td>\n",
       "      <td>1000</td>\n",
       "      <td>0.966019</td>\n",
       "    </tr>\n",
       "    <tr>\n",
       "      <th>3</th>\n",
       "      <td>3</td>\n",
       "      <td>girafe_d_10_n_1000_k_3</td>\n",
       "      <td>0.963467</td>\n",
       "      <td>0.970244</td>\n",
       "      <td>girafe</td>\n",
       "      <td>10</td>\n",
       "      <td>1000</td>\n",
       "      <td>0.966856</td>\n",
       "    </tr>\n",
       "    <tr>\n",
       "      <th>4</th>\n",
       "      <td>4</td>\n",
       "      <td>girafe_d_10_n_1000_k_4</td>\n",
       "      <td>0.963724</td>\n",
       "      <td>0.970469</td>\n",
       "      <td>girafe</td>\n",
       "      <td>10</td>\n",
       "      <td>1000</td>\n",
       "      <td>0.967096</td>\n",
       "    </tr>\n",
       "  </tbody>\n",
       "</table>\n",
       "</div>"
      ],
      "text/plain": [
       "   Unnamed: 0              ScribbleId   Classe0   Classe1   image   d     n  \\\n",
       "0           0  girafe_d_10_n_1000_k_0  0.961334  0.968376  girafe  10  1000   \n",
       "1           1  girafe_d_10_n_1000_k_1  0.963158  0.969917  girafe  10  1000   \n",
       "2           2  girafe_d_10_n_1000_k_2  0.962579  0.969459  girafe  10  1000   \n",
       "3           3  girafe_d_10_n_1000_k_3  0.963467  0.970244  girafe  10  1000   \n",
       "4           4  girafe_d_10_n_1000_k_4  0.963724  0.970469  girafe  10  1000   \n",
       "\n",
       "   AveraDiceScore  \n",
       "0        0.964855  \n",
       "1        0.966537  \n",
       "2        0.966019  \n",
       "3        0.966856  \n",
       "4        0.967096  "
      ]
     },
     "execution_count": 10,
     "metadata": {},
     "output_type": "execute_result"
    }
   ],
   "source": [
    "df = load_dice_score('diceScores.csv')\n",
    "df.head()"
   ]
  },
  {
   "cell_type": "code",
   "execution_count": 11,
   "metadata": {},
   "outputs": [
    {
     "name": "stdout",
     "output_type": "stream",
     "text": [
      "Correlations:\n",
      "\n",
      "Unnamed: 0       -0.459837\n",
      "Classe0           0.999136\n",
      "Classe1           0.997947\n",
      "d                -0.566055\n",
      "n                 0.111605\n",
      "AveraDiceScore    1.000000\n",
      "Name: AveraDiceScore, dtype: float64\n"
     ]
    },
    {
     "data": {
      "image/png": "[encoded data removed]",
      "text/plain": [
       "<matplotlib.figure.Figure at 0x1e3e4770128>"
      ]
     },
     "metadata": {},
     "output_type": "display_data"
    },
    {
     "data": {
      "image/png": "[encoded data removed]",
      "text/plain": [
       "<matplotlib.figure.Figure at 0x1e3e49cada0>"
      ]
     },
     "metadata": {},
     "output_type": "display_data"
    }
   ],
   "source": [
    "plot_influence(df)"
   ]
  },
  {
   "cell_type": "code",
   "execution_count": 12,
   "metadata": {},
   "outputs": [
    {
     "data": {
      "text/html": [
       "<div>\n",
       "<style>\n",
       "    .dataframe thead tr:only-child th {\n",
       "        text-align: right;\n",
       "    }\n",
       "\n",
       "    .dataframe thead th {\n",
       "        text-align: left;\n",
       "    }\n",
       "\n",
       "    .dataframe tbody tr th {\n",
       "        vertical-align: top;\n",
       "    }\n",
       "</style>\n",
       "<table border=\"1\" class=\"dataframe\">\n",
       "  <thead>\n",
       "    <tr style=\"text-align: right;\">\n",
       "      <th></th>\n",
       "      <th>Unnamed: 0</th>\n",
       "      <th>Classe0</th>\n",
       "      <th>Classe1</th>\n",
       "      <th>d</th>\n",
       "      <th>n</th>\n",
       "      <th>AveraDiceScore</th>\n",
       "    </tr>\n",
       "  </thead>\n",
       "  <tbody>\n",
       "    <tr>\n",
       "      <th>Unnamed: 0</th>\n",
       "      <td>1.000000</td>\n",
       "      <td>-0.462405</td>\n",
       "      <td>-0.454323</td>\n",
       "      <td>0.310351</td>\n",
       "      <td>-0.029392</td>\n",
       "      <td>-0.459837</td>\n",
       "    </tr>\n",
       "    <tr>\n",
       "      <th>Classe0</th>\n",
       "      <td>-0.462405</td>\n",
       "      <td>1.000000</td>\n",
       "      <td>0.994424</td>\n",
       "      <td>-0.593368</td>\n",
       "      <td>0.109149</td>\n",
       "      <td>0.999136</td>\n",
       "    </tr>\n",
       "    <tr>\n",
       "      <th>Classe1</th>\n",
       "      <td>-0.454323</td>\n",
       "      <td>0.994424</td>\n",
       "      <td>1.000000</td>\n",
       "      <td>-0.522049</td>\n",
       "      <td>0.115011</td>\n",
       "      <td>0.997947</td>\n",
       "    </tr>\n",
       "    <tr>\n",
       "      <th>d</th>\n",
       "      <td>0.310351</td>\n",
       "      <td>-0.593368</td>\n",
       "      <td>-0.522049</td>\n",
       "      <td>1.000000</td>\n",
       "      <td>-0.022522</td>\n",
       "      <td>-0.566055</td>\n",
       "    </tr>\n",
       "    <tr>\n",
       "      <th>n</th>\n",
       "      <td>-0.029392</td>\n",
       "      <td>0.109149</td>\n",
       "      <td>0.115011</td>\n",
       "      <td>-0.022522</td>\n",
       "      <td>1.000000</td>\n",
       "      <td>0.111605</td>\n",
       "    </tr>\n",
       "    <tr>\n",
       "      <th>AveraDiceScore</th>\n",
       "      <td>-0.459837</td>\n",
       "      <td>0.999136</td>\n",
       "      <td>0.997947</td>\n",
       "      <td>-0.566055</td>\n",
       "      <td>0.111605</td>\n",
       "      <td>1.000000</td>\n",
       "    </tr>\n",
       "  </tbody>\n",
       "</table>\n",
       "</div>"
      ],
      "text/plain": [
       "                Unnamed: 0   Classe0   Classe1         d         n  \\\n",
       "Unnamed: 0        1.000000 -0.462405 -0.454323  0.310351 -0.029392   \n",
       "Classe0          -0.462405  1.000000  0.994424 -0.593368  0.109149   \n",
       "Classe1          -0.454323  0.994424  1.000000 -0.522049  0.115011   \n",
       "d                 0.310351 -0.593368 -0.522049  1.000000 -0.022522   \n",
       "n                -0.029392  0.109149  0.115011 -0.022522  1.000000   \n",
       "AveraDiceScore   -0.459837  0.999136  0.997947 -0.566055  0.111605   \n",
       "\n",
       "                AveraDiceScore  \n",
       "Unnamed: 0           -0.459837  \n",
       "Classe0               0.999136  \n",
       "Classe1               0.997947  \n",
       "d                    -0.566055  \n",
       "n                     0.111605  \n",
       "AveraDiceScore        1.000000  "
      ]
     },
     "execution_count": 12,
     "metadata": {},
     "output_type": "execute_result"
    }
   ],
   "source": [
    "df.corr()"
   ]
  },
  {
   "cell_type": "code",
   "execution_count": null,
   "metadata": {},
   "outputs": [],
   "source": []
  }
 ],
 "metadata": {
  "kernelspec": {
   "display_name": "Python 3",
   "language": "python",
   "name": "python3"
  },
  "language_info": {
   "codemirror_mode": {
    "name": "ipython",
    "version": 3
   },
   "file_extension": ".py",
   "mimetype": "text/x-python",
   "name": "python",
   "nbconvert_exporter": "python",
   "pygments_lexer": "ipython3",
   "version": "3.6.3"
  }
 },
 "nbformat": 4,
 "nbformat_minor": 2
}
